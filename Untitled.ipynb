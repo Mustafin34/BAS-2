{
  "metadata": {
    "language_info": {
      "codemirror_mode": {
        "name": "python",
        "version": 3
      },
      "file_extension": ".py",
      "mimetype": "text/x-python",
      "name": "python",
      "nbconvert_exporter": "python",
      "pygments_lexer": "ipython3",
      "version": "3.8"
    },
    "kernelspec": {
      "name": "python",
      "display_name": "Pyolite",
      "language": "python"
    }
  },
  "nbformat_minor": 4,
  "nbformat": 4,
  "cells": [
    {
      "cell_type": "markdown",
      "source": "Заглавная|Строчная|Название\n--|--|--\nA|α|альфа\nB|β|бета\nΓ|γ|гамма\nΔ|δ|дельта\nE|ϵ and ɛ|эпсилон\nZ|ζ|дзета\nH|η|эта\nΘ|θ and ϑ|тета\nI|ι|йота\nK|κ and ϰ|каппа\nΛ|λ|ламбда\nM|μ|мю\nN|ν|ню\nΞ|ξ|кси\nO|o|омикрон\nΠ|π|пи\nP|ρ and ϱ|ро\nΣ|σ|сигма\nT|τ|тау\nΥ|υ|ипсилон\nΦ|ϕ and φ|фи\nX|χ|хи\nΨ|ψ|пси\nΩ|ω|омега\n\nФормула в отдельной строке\n$${\\displaystyle f(x)={\\frac {1}{\\sigma {\\sqrt {2\\pi }}}}e^{-{\\frac {1}{2}}\\left({\\frac{x-\\mu }{\\sigma }}\\right)^{2}}}$$\n\nФормула в тексте: ${\\displaystyle f(x)={\\frac {1}{\\sigma {\\sqrt {2\\pi }}}}e^{-{\\frac {1}{2}}\\left({\\frac{x-\\mu }{\\sigma }}\\right)^{2}}}$",
      "metadata": {}
    },
    {
      "cell_type": "code",
      "source": "",
      "metadata": {},
      "execution_count": null,
      "outputs": []
    }
  ]
}